{
  "nbformat": 4,
  "nbformat_minor": 0,
  "metadata": {
    "colab": {
      "provenance": [],
      "authorship_tag": "ABX9TyNIfRd1yAl0YstmXOD17nVv",
      "include_colab_link": true
    },
    "kernelspec": {
      "name": "python3",
      "display_name": "Python 3"
    },
    "language_info": {
      "name": "python"
    }
  },
  "cells": [
    {
      "cell_type": "markdown",
      "metadata": {
        "id": "view-in-github",
        "colab_type": "text"
      },
      "source": [
        "<a href=\"https://colab.research.google.com/github/payal15604/ML_Assignments/blob/main/Assignment1_(Numpy).ipynb\" target=\"_parent\"><img src=\"https://colab.research.google.com/assets/colab-badge.svg\" alt=\"Open In Colab\"/></a>"
      ]
    },
    {
      "cell_type": "code",
      "execution_count": 2,
      "metadata": {
        "colab": {
          "base_uri": "https://localhost:8080/"
        },
        "id": "H7P-f-RYF2s-",
        "outputId": "e2e0ecbe-4c31-4b2e-9475-26bca44190d9"
      },
      "outputs": [
        {
          "output_type": "stream",
          "name": "stdout",
          "text": [
            "[5 4 6 3 2 1]\n",
            "[1 2 3 2 4 5 1 2 3]\n",
            "True\n",
            "Sum of diagonal elements: 176\n",
            "Eigenvalues: [98.16835147 28.097044   49.73460452]\n",
            "Eigenvectors:\n",
            " [[ 0.4574917   0.34637121 -0.15017693]\n",
            " [ 0.28447814 -0.72784061 -0.4852124 ]\n",
            " [ 0.84248058  0.59184038  0.8614034 ]]\n",
            "Inverse of matrix:\n",
            " [[ 0.02404141 -0.00911212 -0.00444671]\n",
            " [-0.01667882  0.02966905  0.0024785 ]\n",
            " [ 0.00631287 -0.01603732  0.01217379]]\n",
            "Determinant of matrix: 137180.0000000001\n",
            "Product of p1 and q1:\n",
            " [[16 19]\n",
            " [26 31]]\n",
            "Product of p2 and q2:\n",
            " [[16 19  5]\n",
            " [26 31  8]\n",
            " [46 55 14]]\n",
            "Covariance between flattened p and q:\n",
            " [[2.16666667 0.23333333]\n",
            " [0.23333333 5.36666667]]\n",
            "Inner product of x and y:\n",
            " [[17 52]\n",
            " [13 62]]\n",
            "Outer product of x and y:\n",
            " [[ 2 10  0 10 20  6]\n",
            " [ 3 15  0 15 30  9]\n",
            " [ 4 20  0 20 40 12]\n",
            " [ 3 15  0 15 30  9]\n",
            " [ 2 10  0 10 20  6]\n",
            " [ 9 45  0 45 90 27]]\n"
          ]
        }
      ],
      "source": [
        "#Q1\n",
        "import numpy as np\n",
        "\n",
        "arr = np.array([1, 2, 3, 6, 4, 5])\n",
        "reversed_arr = arr[::-1]\n",
        "print(reversed_arr)\n",
        "\n",
        "array1 = np.array([[1, 2, 3], [2, 4, 5], [1, 2, 3]])\n",
        "flattened_array1 = array1.flatten()\n",
        "print(flattened_array1)\n",
        "\n",
        "\n",
        "arr1 = np.array([[1, 2], [3, 4]])\n",
        "arr2 = np.array([[1, 2], [3, 4]])\n",
        "are_equal = np.array_equal(arr1, arr2)\n",
        "print(are_equal)\n",
        "\n",
        "x = np.array([1, 2, 3, 4, 5, 1, 2, 1, 1, 1])\n",
        "unique, counts = np.unique(x, return_counts=True)\n",
        "most_freq_value_x = unique[np.argmax(counts)]\n",
        "indices_x = np.where(x == most_freq_value_x)[0]\n",
        "\n",
        "y = np.array([1, 1, 1, 2, 3, 4, 2, 4, 3, 3])\n",
        "unique, counts = np.unique(y, return_counts=True)\n",
        "most_freq_value_y = unique[np.argmax(counts)]\n",
        "indices_y = np.where(y == most_freq_value_y)[0]\n",
        "\n",
        "gfg = np.array([[4, 1, 9], [12, 3, 1], [4, 5, 6]])\n",
        "sum_all = np.sum(gfg)\n",
        "sum_rows = np.sum(gfg, axis=1)\n",
        "sum_columns = np.sum(gfg, axis=0)\n",
        "\n",
        "n_array = np.array([[55, 25, 15], [30, 44, 2], [11, 45, 77]])\n",
        "\n",
        "sum_diag = np.trace(n_array)\n",
        "print(\"Sum of diagonal elements:\", sum_diag)\n",
        "\n",
        "eigen_values, eigen_vectors = np.linalg.eig(n_array)\n",
        "print(\"Eigenvalues:\", eigen_values)\n",
        "print(\"Eigenvectors:\\n\", eigen_vectors)\n",
        "\n",
        "inverse_matrix = np.linalg.inv(n_array)\n",
        "print(\"Inverse of matrix:\\n\", inverse_matrix)\n",
        "\n",
        "determinant = np.linalg.det(n_array)\n",
        "print(\"Determinant of matrix:\", determinant)\n",
        "\n",
        "# Case 1\n",
        "p1 = np.array([[1, 2], [2, 3]])\n",
        "q1 = np.array([[4, 5], [6, 7]])\n",
        "product1 = np.dot(p1, q1)\n",
        "print(\"Product of p1 and q1:\\n\", product1)\n",
        "\n",
        "# Case 2\n",
        "p2 = np.array([[1, 2], [2, 3], [4, 5]])\n",
        "q2 = np.array([[4, 5, 1], [6, 7, 2]])\n",
        "product2 = np.dot(p2, q2)\n",
        "print(\"Product of p2 and q2:\\n\", product2)\n",
        "\n",
        "#flatten the matrices to 1D arrays for covariance calculation\n",
        "p_flat = p2.flatten()\n",
        "q_flat = q2.flatten()\n",
        "covariance = np.cov(p_flat, q_flat)\n",
        "print(\"Covariance between flattened p and q:\\n\", covariance)\n",
        "\n",
        "x = np.array([[2, 3, 4], [3, 2, 9]])\n",
        "y = np.array([[1, 5, 0], [5, 10, 3]])\n",
        "inner_product = np.inner(x, y)\n",
        "print(\"Inner product of x and y:\\n\", inner_product)\n",
        "\n",
        "outer_product = np.outer(x, y)\n",
        "print(\"Outer product of x and y:\\n\", outer_product)\n",
        "\n"
      ]
    },
    {
      "cell_type": "code",
      "source": [
        "#Q2\n",
        "\n",
        "import numpy as np\n",
        "\n",
        "array = np.array([[1, -2, 3], [-4, 5, -6]])\n",
        "\n",
        "abs_values = np.abs(array)\n",
        "\n",
        "flattened_array = array.flatten()\n",
        "percentiles_flattened = [np.percentile(flattened_array, q) for q in [25, 50, 75]]\n",
        "percentiles_columns = [np.percentile(array[:, i], [25, 50, 75]) for i in range(array.shape[1])]\n",
        "percentiles_rows = [np.percentile(array[i, :], [25, 50, 75]) for i in range(array.shape[0])]\n",
        "\n",
        "mean_flattened = np.mean(flattened_array)\n",
        "median_flattened = np.median(flattened_array)\n",
        "std_dev_flattened = np.std(flattened_array)\n",
        "\n",
        "mean_columns = np.mean(array, axis=0)\n",
        "median_columns = np.median(array, axis=0)\n",
        "std_dev_columns = np.std(array, axis=0)\n",
        "\n",
        "mean_rows = np.mean(array, axis=1)\n",
        "median_rows = np.median(array, axis=1)\n",
        "std_dev_rows = np.std(array, axis=1)\n",
        "\n",
        "print(\"Element-wise absolute value:\\n\", abs_values)\n",
        "print(\"\\nPercentiles (flattened array):\", percentiles_flattened)\n",
        "print(\"Percentiles (each column):\", percentiles_columns)\n",
        "print(\"Percentiles (each row):\", percentiles_rows)\n",
        "print(\"\\nMean (flattened):\", mean_flattened)\n",
        "print(\"Median (flattened):\", median_flattened)\n",
        "print(\"Standard Deviation (flattened):\", std_dev_flattened)\n",
        "print(\"\\nMean (each column):\", mean_columns)\n",
        "print(\"Median (each column):\", median_columns)\n",
        "print(\"Standard Deviation (each column):\", std_dev_columns)\n",
        "print(\"\\nMean (each row):\", mean_rows)\n",
        "print(\"Median (each row):\", median_rows)\n",
        "print(\"Standard Deviation (each row):\", std_dev_rows)\n",
        "\n",
        "a = np.array([-1.8, -1.6, -0.5, 0.5, 1.6, 1.8, 3.0])\n",
        "\n",
        "floor_values = np.floor(a)\n",
        "ceiling_values = np.ceil(a)\n",
        "truncated_values = np.trunc(a)\n",
        "rounded_values = np.round(a)\n",
        "\n",
        "print(\"Floor values:\", floor_values)\n",
        "print(\"Ceiling values:\", ceiling_values)\n",
        "print(\"Truncated values:\", truncated_values)\n",
        "print(\"Rounded values:\", rounded_values)\n"
      ],
      "metadata": {
        "colab": {
          "base_uri": "https://localhost:8080/"
        },
        "id": "YMgc2F5kI6x5",
        "outputId": "988d1cef-8869-4c98-b236-d99000a3224b"
      },
      "execution_count": 3,
      "outputs": [
        {
          "output_type": "stream",
          "name": "stdout",
          "text": [
            "Element-wise absolute value:\n",
            " [[1 2 3]\n",
            " [4 5 6]]\n",
            "\n",
            "Percentiles (flattened array): [-3.5, -0.5, 2.5]\n",
            "Percentiles (each column): [array([-2.75, -1.5 , -0.25]), array([-0.25,  1.5 ,  3.25]), array([-3.75, -1.5 ,  0.75])]\n",
            "Percentiles (each row): [array([-0.5,  1. ,  2. ]), array([-5. , -4. ,  0.5])]\n",
            "\n",
            "Mean (flattened): -0.5\n",
            "Median (flattened): -0.5\n",
            "Standard Deviation (flattened): 3.8622100754188224\n",
            "\n",
            "Mean (each column): [-1.5  1.5 -1.5]\n",
            "Median (each column): [-1.5  1.5 -1.5]\n",
            "Standard Deviation (each column): [2.5 3.5 4.5]\n",
            "\n",
            "Mean (each row): [ 0.66666667 -1.66666667]\n",
            "Median (each row): [ 1. -4.]\n",
            "Standard Deviation (each row): [2.05480467 4.78423336]\n",
            "Floor values: [-2. -2. -1.  0.  1.  1.  3.]\n",
            "Ceiling values: [-1. -1. -0.  1.  2.  2.  3.]\n",
            "Truncated values: [-1. -1. -0.  0.  1.  1.  3.]\n",
            "Rounded values: [-2. -2. -0.  0.  2.  2.  3.]\n"
          ]
        }
      ]
    },
    {
      "cell_type": "code",
      "source": [
        "#Q3\n",
        "\n",
        "array_a = np.array([10, 52, 62, 16, 16, 54, 453])\n",
        "\n",
        "sorted_array = np.sort(array_a)\n",
        "sorted_indices = np.argsort(array_a)\n",
        "smallest_elements = sorted_array[:4]\n",
        "largest_elements = sorted_array[-5:]\n",
        "\n",
        "print(\"Original array (a):\", array_a)\n",
        "print(\"Sorted array:\", sorted_array)\n",
        "print(\"Indices of sorted array:\", sorted_indices)\n",
        "print(\"4 smallest elements:\", smallest_elements)\n",
        "print(\"5 largest elements:\", largest_elements)\n",
        "\n",
        "array_b = np.array([1.0, 1.2, 2.2, 2.0, 3.0, 2.0])\n",
        "\n",
        "int_elements = array_b[array_b == array_b.astype(int)]\n",
        "float_elements = array_b[array_b != array_b.astype(int)]\n",
        "\n",
        "print(\"\\nOriginal array (b):\", array_b)\n",
        "print(\"Integer elements only:\", int_elements)\n",
        "print(\"Float elements only:\", float_elements)\n"
      ],
      "metadata": {
        "colab": {
          "base_uri": "https://localhost:8080/"
        },
        "id": "oMnaVOaVMJkV",
        "outputId": "7411ad7d-f680-4af4-d6ae-f41e82796da8"
      },
      "execution_count": 4,
      "outputs": [
        {
          "output_type": "stream",
          "name": "stdout",
          "text": [
            "Original array (a): [ 10  52  62  16  16  54 453]\n",
            "Sorted array: [ 10  16  16  52  54  62 453]\n",
            "Indices of sorted array: [0 3 4 1 5 2 6]\n",
            "4 smallest elements: [10 16 16 52]\n",
            "5 largest elements: [ 16  52  54  62 453]\n",
            "\n",
            "Original array (b): [1.  1.2 2.2 2.  3.  2. ]\n",
            "Integer elements only: [1. 2. 3. 2.]\n",
            "Float elements only: [1.2 2.2]\n"
          ]
        }
      ]
    },
    {
      "cell_type": "code",
      "source": [
        "#Q4\n",
        "\n",
        "from PIL import Image\n",
        "\n",
        "def img_to_array(path):\n",
        "    img = Image.open(path)\n",
        "    img_array = np.array(img)\n",
        "    if len(img_array.shape) == 3:\n",
        "        np.savetxt(\"image_rgb.txt\", img_array.reshape(-1, img_array.shape[2]), fmt='%d')\n",
        "        print(\"Image saved as RGB text file.\")\n",
        "    else:\n",
        "        np.savetxt(\"image_grey.txt\", img_array, fmt='%d')\n",
        "        print(\"Image saved as Greyscale text file.\")\n",
        "\n"
      ],
      "metadata": {
        "id": "lYurbvUsNSke"
      },
      "execution_count": 6,
      "outputs": []
    },
    {
      "cell_type": "code",
      "source": [],
      "metadata": {
        "id": "mwVIhZrFNns7"
      },
      "execution_count": null,
      "outputs": []
    }
  ]
}