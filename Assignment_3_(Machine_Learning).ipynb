{
  "nbformat": 4,
  "nbformat_minor": 0,
  "metadata": {
    "colab": {
      "provenance": [],
      "authorship_tag": "ABX9TyOhERguiqU25vdCcIdAy2/0",
      "include_colab_link": true
    },
    "kernelspec": {
      "name": "python3",
      "display_name": "Python 3"
    },
    "language_info": {
      "name": "python"
    }
  },
  "cells": [
    {
      "cell_type": "markdown",
      "metadata": {
        "id": "view-in-github",
        "colab_type": "text"
      },
      "source": [
        "<a href=\"https://colab.research.google.com/github/payal15604/ML_Assignments/blob/main/Assignment_3_(Machine_Learning).ipynb\" target=\"_parent\"><img src=\"https://colab.research.google.com/assets/colab-badge.svg\" alt=\"Open In Colab\"/></a>"
      ]
    },
    {
      "cell_type": "code",
      "execution_count": null,
      "metadata": {
        "id": "RG3ZWXRJiTwM"
      },
      "outputs": [],
      "source": [
        "from sklearn.datasets import load_digits\n",
        "from sklearn.preprocessing import StandardScaler\n",
        "import numpy as np"
      ]
    },
    {
      "cell_type": "code",
      "source": [
        "digits = load_digits()\n",
        "X = digits.data\n",
        "y = digits.target"
      ],
      "metadata": {
        "id": "7EAA3fBdil0P"
      },
      "execution_count": null,
      "outputs": []
    },
    {
      "cell_type": "code",
      "source": [
        "digits.data.shape #64 is the number of columns"
      ],
      "metadata": {
        "colab": {
          "base_uri": "https://localhost:8080/"
        },
        "id": "shPPlLrUitAc",
        "outputId": "a5bb8535-01ed-4212-82b3-48ea04434299"
      },
      "execution_count": null,
      "outputs": [
        {
          "output_type": "execute_result",
          "data": {
            "text/plain": [
              "(1797, 64)"
            ]
          },
          "metadata": {},
          "execution_count": 4
        }
      ]
    },
    {
      "cell_type": "code",
      "source": [
        "digits.target.shape"
      ],
      "metadata": {
        "colab": {
          "base_uri": "https://localhost:8080/"
        },
        "id": "gS3Lm3KjiwfJ",
        "outputId": "7f14f259-d530-4757-94c8-ff4ca43d2e79"
      },
      "execution_count": null,
      "outputs": [
        {
          "output_type": "execute_result",
          "data": {
            "text/plain": [
              "(1797,)"
            ]
          },
          "metadata": {},
          "execution_count": 5
        }
      ]
    },
    {
      "cell_type": "code",
      "source": [
        "scaler = StandardScaler()\n",
        "X_scaled = scaler.fit_transform(X)"
      ],
      "metadata": {
        "id": "ex1_t8p6i2zI"
      },
      "execution_count": null,
      "outputs": []
    },
    {
      "cell_type": "code",
      "source": [
        "cov_mat = np.cov(X_scaled.T) #covariance matrix"
      ],
      "metadata": {
        "id": "ilZg8neRjHz6"
      },
      "execution_count": null,
      "outputs": []
    },
    {
      "cell_type": "code",
      "source": [
        "print(cov_mat)"
      ],
      "metadata": {
        "colab": {
          "base_uri": "https://localhost:8080/"
        },
        "id": "Zdy4m7bRjOKJ",
        "outputId": "ef1b6abd-af15-4ae7-e936-eaa2fb60a4a7"
      },
      "execution_count": null,
      "outputs": [
        {
          "output_type": "stream",
          "name": "stdout",
          "text": [
            "[[ 0.          0.          0.         ...  0.          0.\n",
            "   0.        ]\n",
            " [ 0.          1.00055679  0.55692803 ... -0.02988686  0.02656195\n",
            "  -0.04391324]\n",
            " [ 0.          0.55692803  1.00055679 ... -0.04120565  0.07263924\n",
            "   0.08256908]\n",
            " ...\n",
            " [ 0.         -0.02988686 -0.04120565 ...  1.00055679  0.64868875\n",
            "   0.26213704]\n",
            " [ 0.          0.02656195  0.07263924 ...  0.64868875  1.00055679\n",
            "   0.62077355]\n",
            " [ 0.         -0.04391324  0.08256908 ...  0.26213704  0.62077355\n",
            "   1.00055679]]\n"
          ]
        }
      ]
    },
    {
      "cell_type": "code",
      "source": [
        "eigen_values, eigen_vectors = np.linalg.eig(cov_mat)"
      ],
      "metadata": {
        "id": "4AwtEHyEjZTf"
      },
      "execution_count": null,
      "outputs": []
    },
    {
      "cell_type": "code",
      "source": [
        "eigen_values"
      ],
      "metadata": {
        "colab": {
          "base_uri": "https://localhost:8080/"
        },
        "id": "pgfNP6lfjh6L",
        "outputId": "fe9e50d4-7b64-4629-c043-3d224306129e"
      },
      "execution_count": null,
      "outputs": [
        {
          "output_type": "execute_result",
          "data": {
            "text/plain": [
              "array([7.34477606, 5.83549054, 5.15396118, 3.96623597, 2.9663452 ,\n",
              "       2.57204442, 2.40600941, 2.06867355, 1.82993314, 1.78951739,\n",
              "       1.69784616, 1.57287889, 1.38870781, 1.35933609, 1.32152536,\n",
              "       1.16829176, 1.08368678, 0.99977862, 0.97438293, 0.90891242,\n",
              "       0.82271926, 0.77631014, 0.71155675, 0.64552365, 0.59527399,\n",
              "       0.5765018 , 0.52673155, 0.5106363 , 0.48686381, 0.45560107,\n",
              "       0.44285155, 0.42230086, 0.3991063 , 0.39110111, 0.36094517,\n",
              "       0.34860306, 0.3195963 , 0.05037444, 0.29406627, 0.27692285,\n",
              "       0.06328961, 0.258273  , 0.24783029, 0.2423566 , 0.07635394,\n",
              "       0.08246812, 0.09018543, 0.09840876, 0.10250434, 0.11188655,\n",
              "       0.11932898, 0.12426371, 0.13321081, 0.14311427, 0.217582  ,\n",
              "       0.15818474, 0.16875236, 0.20799593, 0.17612894, 0.2000909 ,\n",
              "       0.18983516, 0.        , 0.        , 0.        ])"
            ]
          },
          "metadata": {},
          "execution_count": 13
        }
      ]
    },
    {
      "cell_type": "code",
      "source": [
        "eigen_vectors"
      ],
      "metadata": {
        "colab": {
          "base_uri": "https://localhost:8080/"
        },
        "id": "ZZji-Zr4jl9p",
        "outputId": "fdd482cc-614a-41b7-e965-0091d2888f33"
      },
      "execution_count": null,
      "outputs": [
        {
          "output_type": "execute_result",
          "data": {
            "text/plain": [
              "array([[ 0.        ,  0.        ,  0.        , ...,  1.        ,\n",
              "         0.        ,  0.        ],\n",
              "       [ 0.18223392, -0.04702701,  0.02358821, ...,  0.        ,\n",
              "         0.        ,  0.        ],\n",
              "       [ 0.285868  , -0.0595648 , -0.05679875, ...,  0.        ,\n",
              "         0.        ,  0.        ],\n",
              "       ...,\n",
              "       [ 0.103198  ,  0.24261778, -0.02227952, ...,  0.        ,\n",
              "         0.        ,  0.        ],\n",
              "       [ 0.1198106 ,  0.16508926,  0.10036559, ...,  0.        ,\n",
              "         0.        ,  0.        ],\n",
              "       [ 0.07149362,  0.07132924,  0.09244589, ...,  0.        ,\n",
              "         0.        ,  0.        ]])"
            ]
          },
          "metadata": {},
          "execution_count": 14
        }
      ]
    },
    {
      "cell_type": "code",
      "source": [
        "#Sort eigen values and corresponding eigen vectors\n",
        "sorted_indices = np.argsort(eigen_values)[::-1]\n",
        "sorted_eigenvalues = eigen_values[sorted_indices]\n",
        "sorted_eigenvectors = eigen_vectors[:, sorted_indices]"
      ],
      "metadata": {
        "id": "11uN8FuSjogh"
      },
      "execution_count": null,
      "outputs": []
    },
    {
      "cell_type": "code",
      "source": [
        "k = 2\n",
        "extract_top_eigenvectors = sorted_eigenvectors[:, :k]\n",
        "X_reduced = X_scaled.dot(extract_top_eigenvectors)"
      ],
      "metadata": {
        "id": "ELG7juP8j-J8"
      },
      "execution_count": null,
      "outputs": []
    },
    {
      "cell_type": "code",
      "source": [
        "X_reduced"
      ],
      "metadata": {
        "colab": {
          "base_uri": "https://localhost:8080/"
        },
        "id": "gVvXiSFCk771",
        "outputId": "06f35430-3ea0-43ff-844c-fc0f3fe9e679"
      },
      "execution_count": null,
      "outputs": [
        {
          "output_type": "execute_result",
          "data": {
            "text/plain": [
              "array([[-1.91421366,  0.95450157],\n",
              "       [-0.58898033, -0.9246358 ],\n",
              "       [-1.30203906,  0.31718883],\n",
              "       ...,\n",
              "       [-1.02259599,  0.14791087],\n",
              "       [-1.07605522,  0.38090625],\n",
              "       [ 1.25770233,  2.22759088]])"
            ]
          },
          "metadata": {},
          "execution_count": 17
        }
      ]
    },
    {
      "cell_type": "code",
      "source": [
        "#using in-built function\n",
        "from sklearn.decomposition import PCA\n",
        "\n",
        "pca = PCA(n_components=2)\n",
        "X_reduced_pca = pca.fit_transform(X_scaled)\n"
      ],
      "metadata": {
        "id": "u9-g5EJok-Ak"
      },
      "execution_count": null,
      "outputs": []
    },
    {
      "cell_type": "code",
      "source": [
        "explained_variance_ratio = pca.explained_variance_ratio_\n",
        "print(\"Explained variance ratio (PCA library):\", explained_variance_ratio)\n",
        "\n",
        "print(\"Shape of reduced data (PCA in-built):\", X_reduced_pca.shape)\n",
        "print(\"Shape of reduced data (stepbystep):\", X_reduced.shape)\n"
      ],
      "metadata": {
        "colab": {
          "base_uri": "https://localhost:8080/"
        },
        "id": "hOoHDOiilL4h",
        "outputId": "af77ec11-3bd8-43bb-f97c-a19825f8bb9c"
      },
      "execution_count": null,
      "outputs": [
        {
          "output_type": "stream",
          "name": "stdout",
          "text": [
            "Explained variance ratio (PCA library): [0.12033916 0.09561054]\n",
            "Shape of reduced data (PCA in-built): (1797, 2)\n",
            "Shape of reduced data (stepbystep): (1797, 2)\n"
          ]
        }
      ]
    },
    {
      "cell_type": "code",
      "source": [],
      "metadata": {
        "id": "4MMDeqB8lna-"
      },
      "execution_count": null,
      "outputs": []
    }
  ]
}