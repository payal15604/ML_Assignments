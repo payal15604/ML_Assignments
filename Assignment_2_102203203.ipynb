{
 "cells": [
  {
   "cell_type": "code",
   "execution_count": 2,
   "id": "64267342",
   "metadata": {},
   "outputs": [
    {
     "name": "stdout",
     "output_type": "stream",
     "text": [
      "         Education      Occupation Gender MaritalStatus  HomeOwnerFlag  \\\n",
      "0        Bachelors        Clerical      M             M              1   \n",
      "1  Partial College        Clerical      M             M              1   \n",
      "2        Bachelors        Clerical      F             S              0   \n",
      "3  Partial College  Skilled Manual      M             M              1   \n",
      "4  Partial College  Skilled Manual      M             S              1   \n",
      "\n",
      "   NumberCarsOwned  NumberChildrenAtHome  TotalChildren  YearlyIncome  Age  \n",
      "0                3                     0              1         81916   37  \n",
      "1                2                     1              2         81076   52  \n",
      "2                3                     0              0         86387   39  \n",
      "3                2                     1              2         61481   47  \n",
      "4                1                     0              0         51804   49  \n"
     ]
    }
   ],
   "source": [
    "import pandas as pd\n",
    "\n",
    "data = pd.read_csv('AWCustomers.csv')\n",
    "\n",
    "selected_attributes = ['BirthDate', 'Education', 'Occupation', 'Gender', 'MaritalStatus', \n",
    "                       'HomeOwnerFlag', 'NumberCarsOwned', 'NumberChildrenAtHome', \n",
    "                       'TotalChildren', 'YearlyIncome']\n",
    "\n",
    "bike_buyers_data = data[selected_attributes].copy()\n",
    "\n",
    "#Deriving 'Age' from 'BirthDate'\n",
    "bike_buyers_data['Age'] = pd.to_datetime('today').year - pd.to_datetime(bike_buyers_data['BirthDate']).dt.year\n",
    "\n",
    "\n",
    "bike_buyers_data.drop(columns=['BirthDate'], inplace=True)\n",
    "\n",
    "print(bike_buyers_data.head())\n",
    "\n",
    "#Discrete: Education, Occupation, Gender, MaritalStatus, HomeOwnerFlag, NumberCarsOwned, NumberChildrenAtHome, TotalChildren\n",
    "#Continuous: Age, YearlyIncome\n",
    "#Nominal: Occupation, Gender, MaritalStatus, HomeOwnerFlag\n",
    "#Ordinal: Education\n",
    "#Ratio: Age, NumberCarsOwned, NumberChildrenAtHome, TotalChildren, YearlyIncome"
   ]
  },
  {
   "cell_type": "code",
   "execution_count": 4,
   "id": "3ca1b983",
   "metadata": {},
   "outputs": [
    {
     "name": "stdout",
     "output_type": "stream",
     "text": [
      "   HomeOwnerFlag  NumberCarsOwned  NumberChildrenAtHome  TotalChildren  \\\n",
      "0              1         1.892524             -0.594371       0.161342   \n",
      "1              1         0.798389              1.163279       1.239753   \n",
      "2              0         1.892524             -0.594371      -0.917069   \n",
      "3              1         0.798389              1.163279       1.239753   \n",
      "4              1        -0.295746             -0.594371      -0.917069   \n",
      "\n",
      "   YearlyIncome  Age  Education_Graduate Degree  Education_High School  \\\n",
      "0           1.0  0.0                      False                  False   \n",
      "1           1.0  1.0                      False                  False   \n",
      "2           1.0  0.0                      False                  False   \n",
      "3           0.0  0.0                      False                  False   \n",
      "4           0.0  1.0                      False                  False   \n",
      "\n",
      "   Education_Partial College  Education_Partial High School  \\\n",
      "0                      False                          False   \n",
      "1                       True                          False   \n",
      "2                      False                          False   \n",
      "3                       True                          False   \n",
      "4                       True                          False   \n",
      "\n",
      "   Occupation_Management  Occupation_Manual  Occupation_Professional  \\\n",
      "0                  False              False                    False   \n",
      "1                  False              False                    False   \n",
      "2                  False              False                    False   \n",
      "3                  False              False                    False   \n",
      "4                  False              False                    False   \n",
      "\n",
      "   Occupation_Skilled Manual  Gender_M  MaritalStatus_S  \n",
      "0                      False      True            False  \n",
      "1                      False      True            False  \n",
      "2                      False     False             True  \n",
      "3                       True      True            False  \n",
      "4                       True      True             True  \n"
     ]
    },
    {
     "name": "stderr",
     "output_type": "stream",
     "text": [
      "C:\\ProgramData\\anaconda3\\Lib\\site-packages\\sklearn\\preprocessing\\_discretization.py:239: FutureWarning: In version 1.5 onwards, subsample=200_000 will be used by default. Set subsample explicitly to silence this warning in the mean time. Set subsample=None to disable subsampling explicitly.\n",
      "  warnings.warn(\n"
     ]
    }
   ],
   "source": [
    "import numpy as np\n",
    "from sklearn.preprocessing import StandardScaler, MinMaxScaler, KBinsDiscretizer, OneHotEncoder\n",
    "\n",
    "# (A) Handling NULL Values\n",
    "# We are putting missing values for categorical columns with the mode and numerical columns with the median\n",
    "for column in bike_buyers_data.columns:\n",
    "    if bike_buyers_data[column].dtype == 'object':  # Categorical data\n",
    "        bike_buyers_data[column].fillna(bike_buyers_data[column].mode()[0], inplace=True)\n",
    "    else:  # Numerical data\n",
    "        bike_buyers_data[column].fillna(bike_buyers_data[column].median(), inplace=True)\n",
    "        \n",
    "# (B) Normalization\n",
    "# Normalize YearlyIncome and Age using MinMaxScaler i.e. scaling to [0,1]\n",
    "scaler = MinMaxScaler()\n",
    "bike_buyers_data[['YearlyIncome', 'Age']] = scaler.fit_transform(bike_buyers_data[['YearlyIncome', 'Age']])\n",
    "\n",
    "# (C) Binning\n",
    "# Discretizing Age and YearlyIncome into 3 bins each\n",
    "binner = KBinsDiscretizer(n_bins=3, encode='ordinal', strategy='uniform')\n",
    "bike_buyers_data[['Age', 'YearlyIncome']] = binner.fit_transform(bike_buyers_data[['Age', 'YearlyIncome']])\n",
    "\n",
    "# (D) Normalization\n",
    "# Standardize NumberCarsOwned, NumberChildrenAtHome, TotalChildren\n",
    "standard_scaler = StandardScaler()\n",
    "bike_buyers_data[['NumberCarsOwned', 'NumberChildrenAtHome', 'TotalChildren']] = standard_scaler.fit_transform(\n",
    "    bike_buyers_data[['NumberCarsOwned', 'NumberChildrenAtHome', 'TotalChildren']]\n",
    ")\n",
    "\n",
    "# (E) One-Hot Encoding\n",
    "# Apply one-hot encoding to any remaining categorical variables\n",
    "bike_buyers_data = pd.get_dummies(bike_buyers_data, drop_first=True)\n",
    "\n",
    "\n",
    "print(bike_buyers_data.head())\n",
    "\n",
    "# Save the preprocessed data for further use\n",
    "bike_buyers_data.to_csv('final_preprocessed_bike_buyer_data.csv', index=False)\n",
    "        \n",
    "\n",
    "        "
   ]
  },
  {
   "cell_type": "code",
   "execution_count": 10,
   "id": "1ca3af5d",
   "metadata": {},
   "outputs": [
    {
     "name": "stdout",
     "output_type": "stream",
     "text": [
      "Simple Matching Similarity: 0.6875\n",
      "Jaccard Similarity: 0.375\n",
      "Cosine Similarity: 0.45939350805615\n",
      "Correlation between NumberCarsOwned and Yearly Income: 0.446881402025338\n"
     ]
    }
   ],
   "source": [
    "from sklearn.preprocessing import StandardScaler\n",
    "from sklearn.metrics.pairwise import cosine_similarity\n",
    "from scipy.spatial.distance import jaccard\n",
    "from scipy.stats import pearsonr\n",
    "\n",
    "\n",
    "df = bike_buyers_data.copy()\n",
    "\n",
    "numeric_cols = ['YearlyIncome', 'NumberCarsOwned', 'NumberChildrenAtHome', 'TotalChildren']\n",
    "\n",
    "\n",
    "scaler = StandardScaler()\n",
    "df[numeric_cols] = scaler.fit_transform(df[numeric_cols])\n",
    "\n",
    "df = pd.get_dummies(df, drop_first=True)\n",
    "\n",
    "# Commute Distance is distance calculated in (a) (?)\n",
    "commute_distance = df['NumberCarsOwned']  # Used NumberCarsOwned\n",
    "yearly_income = df['YearlyIncome']\n",
    "\n",
    "# two sample objects \n",
    "obj1 = df.iloc[0].values\n",
    "obj2 = df.iloc[1].values\n",
    "\n",
    "# (a) Calculate Similarity Measures\n",
    "def simple_matching_similarity(x, y):\n",
    "    return np.sum(x == y) / len(x)\n",
    "\n",
    "simple_matching = simple_matching_similarity(obj1, obj2)\n",
    "\n",
    "# Jaccard Similarity \n",
    "jaccard_sim = 1 - jaccard(obj1, obj2)\n",
    "\n",
    "# Cosine Similarity\n",
    "cosine_sim = cosine_similarity([obj1], [obj2])[0][0]\n",
    "\n",
    "# (b) Calculate Correlation\n",
    "corr, _ = pearsonr(commute_distance, yearly_income)\n",
    "\n",
    "print(f\"Simple Matching Similarity: {simple_matching}\")\n",
    "print(f\"Jaccard Similarity: {jaccard_sim}\")\n",
    "print(f\"Cosine Similarity: {cosine_sim}\")\n",
    "print(f\"Correlation between NumberCarsOwned and Yearly Income: {corr}\")\n"
   ]
  },
  {
   "cell_type": "code",
   "execution_count": null,
   "id": "889c7216",
   "metadata": {},
   "outputs": [],
   "source": []
  }
 ],
 "metadata": {
  "kernelspec": {
   "display_name": "Python 3 (ipykernel)",
   "language": "python",
   "name": "python3"
  },
  "language_info": {
   "codemirror_mode": {
    "name": "ipython",
    "version": 3
   },
   "file_extension": ".py",
   "mimetype": "text/x-python",
   "name": "python",
   "nbconvert_exporter": "python",
   "pygments_lexer": "ipython3",
   "version": "3.11.5"
  }
 },
 "nbformat": 4,
 "nbformat_minor": 5
}
